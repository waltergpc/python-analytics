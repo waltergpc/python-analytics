{
 "cells": [
  {
   "cell_type": "code",
   "execution_count": 35,
   "id": "91a3b51d",
   "metadata": {},
   "outputs": [],
   "source": [
    "import fastf1 as ff1"
   ]
  },
  {
   "cell_type": "code",
   "execution_count": 36,
   "id": "7fad351d",
   "metadata": {},
   "outputs": [],
   "source": [
    "from fastf1 import plotting"
   ]
  },
  {
   "cell_type": "code",
   "execution_count": 37,
   "id": "7ef9f810",
   "metadata": {},
   "outputs": [],
   "source": [
    "from fastf1 import utils"
   ]
  },
  {
   "cell_type": "code",
   "execution_count": 38,
   "id": "3cea01b2",
   "metadata": {},
   "outputs": [],
   "source": [
    "from matplotlib import pyplot as plt\n"
   ]
  },
  {
   "cell_type": "code",
   "execution_count": 39,
   "id": "ab419eca",
   "metadata": {},
   "outputs": [],
   "source": [
    "from matplotlib.pyplot import figure"
   ]
  },
  {
   "cell_type": "code",
   "execution_count": 40,
   "id": "68e1ea27",
   "metadata": {},
   "outputs": [],
   "source": [
    "import numpy as np"
   ]
  },
  {
   "cell_type": "code",
   "execution_count": 41,
   "id": "0cc3da9b",
   "metadata": {},
   "outputs": [],
   "source": [
    "import pandas as pd"
   ]
  },
  {
   "cell_type": "code",
   "execution_count": 42,
   "id": "47f72627",
   "metadata": {
    "scrolled": true
   },
   "outputs": [],
   "source": [
    "ff1.Cache.enable_cache(\"cache\")"
   ]
  },
  {
   "cell_type": "code",
   "execution_count": 43,
   "id": "6eb9a570",
   "metadata": {},
   "outputs": [],
   "source": [
    "quali = ff1.get_session(2022, \"Saudi Arabia\", \"Q\")"
   ]
  },
  {
   "cell_type": "code",
   "execution_count": 44,
   "id": "97feb7e0",
   "metadata": {},
   "outputs": [
    {
     "name": "stderr",
     "output_type": "stream",
     "text": [
      "core           INFO \tLoading data for Saudi Arabian Grand Prix - Qualifying [v2.3.1]\n",
      "api            INFO \tUsing cached data for driver_info\n",
      "api            INFO \tUsing cached data for timing_data\n",
      "api            INFO \tUsing cached data for timing_app_data\n",
      "core           INFO \tProcessing timing data...\n",
      "api            INFO \tUsing cached data for session_status_data\n",
      "api            INFO \tUsing cached data for track_status_data\n",
      "core        WARNING \tFailed to load lap data!\n",
      "api            INFO \tUsing cached data for car_data\n",
      "api            INFO \tUsing cached data for position_data\n",
      "core        WARNING \tFailed to load telemetry data!\n",
      "api            INFO \tUsing cached data for weather_data\n",
      "api            INFO \tUsing cached data for race_control_messages\n",
      "core           INFO \tFinished loading data for 20 drivers: ['11', '16', '55', '1', '31', '63', '14', '77', '10', '20', '4', '3', '24', '47', '18', '44', '23', '27', '6', '22']\n"
     ]
    }
   ],
   "source": [
    "quali.load()"
   ]
  },
  {
   "cell_type": "code",
   "execution_count": 51,
   "id": "f9d875a8",
   "metadata": {},
   "outputs": [],
   "source": [
    "driver_1, driver_2 = \"PER\", \"LEC\""
   ]
  },
  {
   "cell_type": "code",
   "execution_count": null,
   "id": "5ee2ee9b",
   "metadata": {},
   "outputs": [],
   "source": []
  },
  {
   "cell_type": "code",
   "execution_count": 54,
   "id": "c4453ff0",
   "metadata": {},
   "outputs": [
    {
     "ename": "DataNotLoadedError",
     "evalue": "The data you are trying to access has not been loaded yet. See `Session.load`",
     "output_type": "error",
     "traceback": [
      "\u001b[0;31m---------------------------------------------------------------------------\u001b[0m",
      "\u001b[0;31mDataNotLoadedError\u001b[0m                        Traceback (most recent call last)",
      "Cell \u001b[0;32mIn[54], line 1\u001b[0m\n\u001b[0;32m----> 1\u001b[0m laps_driver_1 \u001b[38;5;241m=\u001b[39m \u001b[43mquali\u001b[49m\u001b[38;5;241;43m.\u001b[39;49m\u001b[43mlaps\u001b[49m\u001b[38;5;241m.\u001b[39mpick_driver(driver_1)\n",
      "File \u001b[0;32m~/Desktop/f1-data/venv/lib/python3.8/site-packages/fastf1/core.py:1052\u001b[0m, in \u001b[0;36mSession.laps\u001b[0;34m(self)\u001b[0m\n\u001b[1;32m   1046\u001b[0m \u001b[38;5;129m@property\u001b[39m\n\u001b[1;32m   1047\u001b[0m \u001b[38;5;28;01mdef\u001b[39;00m \u001b[38;5;21mlaps\u001b[39m(\u001b[38;5;28mself\u001b[39m):\n\u001b[1;32m   1048\u001b[0m \u001b[38;5;250m    \u001b[39m\u001b[38;5;124;03m\"\"\":class:`Laps`: All laps from all drivers driven in this session.\u001b[39;00m\n\u001b[1;32m   1049\u001b[0m \n\u001b[1;32m   1050\u001b[0m \u001b[38;5;124;03m    Data is available after calling `Session.load` with ``laps=True``\u001b[39;00m\n\u001b[1;32m   1051\u001b[0m \u001b[38;5;124;03m    \"\"\"\u001b[39;00m\n\u001b[0;32m-> 1052\u001b[0m     \u001b[38;5;28;01mreturn\u001b[39;00m \u001b[38;5;28;43mself\u001b[39;49m\u001b[38;5;241;43m.\u001b[39;49m\u001b[43m_get_property_warn_not_loaded\u001b[49m\u001b[43m(\u001b[49m\u001b[38;5;124;43m'\u001b[39;49m\u001b[38;5;124;43m_laps\u001b[39;49m\u001b[38;5;124;43m'\u001b[39;49m\u001b[43m)\u001b[49m\n",
      "File \u001b[0;32m~/Desktop/f1-data/venv/lib/python3.8/site-packages/fastf1/core.py:1017\u001b[0m, in \u001b[0;36mSession._get_property_warn_not_loaded\u001b[0;34m(self, name)\u001b[0m\n\u001b[1;32m   1015\u001b[0m d \u001b[38;5;241m=\u001b[39m \u001b[38;5;28mgetattr\u001b[39m(\u001b[38;5;28mself\u001b[39m, name, \u001b[38;5;28;01mNone\u001b[39;00m)\n\u001b[1;32m   1016\u001b[0m \u001b[38;5;28;01mif\u001b[39;00m d \u001b[38;5;129;01mis\u001b[39;00m \u001b[38;5;28;01mNone\u001b[39;00m:\n\u001b[0;32m-> 1017\u001b[0m     \u001b[38;5;28;01mraise\u001b[39;00m DataNotLoadedError(\u001b[38;5;124m\"\u001b[39m\u001b[38;5;124mThe data you are trying to access has not \u001b[39m\u001b[38;5;124m\"\u001b[39m\n\u001b[1;32m   1018\u001b[0m                              \u001b[38;5;124m\"\u001b[39m\u001b[38;5;124mbeen loaded yet. See `Session.load`\u001b[39m\u001b[38;5;124m\"\u001b[39m)\n\u001b[1;32m   1019\u001b[0m \u001b[38;5;28;01mreturn\u001b[39;00m d\n",
      "\u001b[0;31mDataNotLoadedError\u001b[0m: The data you are trying to access has not been loaded yet. See `Session.load`"
     ]
    }
   ],
   "source": [
    "laps_driver_1 = quali.laps.pick_driver(driver_1)"
   ]
  },
  {
   "cell_type": "code",
   "execution_count": 55,
   "id": "c4cdf48a",
   "metadata": {},
   "outputs": [
    {
     "ename": "DataNotLoadedError",
     "evalue": "The data you are trying to access has not been loaded yet. See `Session.load`",
     "output_type": "error",
     "traceback": [
      "\u001b[0;31m---------------------------------------------------------------------------\u001b[0m",
      "\u001b[0;31mDataNotLoadedError\u001b[0m                        Traceback (most recent call last)",
      "Cell \u001b[0;32mIn[55], line 1\u001b[0m\n\u001b[0;32m----> 1\u001b[0m laps_driver_2 \u001b[38;5;241m=\u001b[39m \u001b[43mquali\u001b[49m\u001b[38;5;241;43m.\u001b[39;49m\u001b[43mlaps\u001b[49m\u001b[38;5;241m.\u001b[39mpick_driver(driver_2)\n",
      "File \u001b[0;32m~/Desktop/f1-data/venv/lib/python3.8/site-packages/fastf1/core.py:1052\u001b[0m, in \u001b[0;36mSession.laps\u001b[0;34m(self)\u001b[0m\n\u001b[1;32m   1046\u001b[0m \u001b[38;5;129m@property\u001b[39m\n\u001b[1;32m   1047\u001b[0m \u001b[38;5;28;01mdef\u001b[39;00m \u001b[38;5;21mlaps\u001b[39m(\u001b[38;5;28mself\u001b[39m):\n\u001b[1;32m   1048\u001b[0m \u001b[38;5;250m    \u001b[39m\u001b[38;5;124;03m\"\"\":class:`Laps`: All laps from all drivers driven in this session.\u001b[39;00m\n\u001b[1;32m   1049\u001b[0m \n\u001b[1;32m   1050\u001b[0m \u001b[38;5;124;03m    Data is available after calling `Session.load` with ``laps=True``\u001b[39;00m\n\u001b[1;32m   1051\u001b[0m \u001b[38;5;124;03m    \"\"\"\u001b[39;00m\n\u001b[0;32m-> 1052\u001b[0m     \u001b[38;5;28;01mreturn\u001b[39;00m \u001b[38;5;28;43mself\u001b[39;49m\u001b[38;5;241;43m.\u001b[39;49m\u001b[43m_get_property_warn_not_loaded\u001b[49m\u001b[43m(\u001b[49m\u001b[38;5;124;43m'\u001b[39;49m\u001b[38;5;124;43m_laps\u001b[39;49m\u001b[38;5;124;43m'\u001b[39;49m\u001b[43m)\u001b[49m\n",
      "File \u001b[0;32m~/Desktop/f1-data/venv/lib/python3.8/site-packages/fastf1/core.py:1017\u001b[0m, in \u001b[0;36mSession._get_property_warn_not_loaded\u001b[0;34m(self, name)\u001b[0m\n\u001b[1;32m   1015\u001b[0m d \u001b[38;5;241m=\u001b[39m \u001b[38;5;28mgetattr\u001b[39m(\u001b[38;5;28mself\u001b[39m, name, \u001b[38;5;28;01mNone\u001b[39;00m)\n\u001b[1;32m   1016\u001b[0m \u001b[38;5;28;01mif\u001b[39;00m d \u001b[38;5;129;01mis\u001b[39;00m \u001b[38;5;28;01mNone\u001b[39;00m:\n\u001b[0;32m-> 1017\u001b[0m     \u001b[38;5;28;01mraise\u001b[39;00m DataNotLoadedError(\u001b[38;5;124m\"\u001b[39m\u001b[38;5;124mThe data you are trying to access has not \u001b[39m\u001b[38;5;124m\"\u001b[39m\n\u001b[1;32m   1018\u001b[0m                              \u001b[38;5;124m\"\u001b[39m\u001b[38;5;124mbeen loaded yet. See `Session.load`\u001b[39m\u001b[38;5;124m\"\u001b[39m)\n\u001b[1;32m   1019\u001b[0m \u001b[38;5;28;01mreturn\u001b[39;00m d\n",
      "\u001b[0;31mDataNotLoadedError\u001b[0m: The data you are trying to access has not been loaded yet. See `Session.load`"
     ]
    }
   ],
   "source": [
    "laps_driver_2 = quali.laps.pick_driver(driver_2)"
   ]
  },
  {
   "cell_type": "code",
   "execution_count": null,
   "id": "35decabc",
   "metadata": {},
   "outputs": [],
   "source": []
  },
  {
   "cell_type": "code",
   "execution_count": null,
   "id": "e253a1e0",
   "metadata": {},
   "outputs": [],
   "source": []
  }
 ],
 "metadata": {
  "kernelspec": {
   "display_name": "Python 3 (ipykernel)",
   "language": "python",
   "name": "python3"
  },
  "language_info": {
   "codemirror_mode": {
    "name": "ipython",
    "version": 3
   },
   "file_extension": ".py",
   "mimetype": "text/x-python",
   "name": "python",
   "nbconvert_exporter": "python",
   "pygments_lexer": "ipython3",
   "version": "3.8.2"
  }
 },
 "nbformat": 4,
 "nbformat_minor": 5
}
